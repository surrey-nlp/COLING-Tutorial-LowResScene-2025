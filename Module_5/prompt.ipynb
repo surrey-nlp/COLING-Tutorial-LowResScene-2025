{
 "cells": [
  {
   "cell_type": "markdown",
   "metadata": {},
   "source": [
    "# Environment Setting"
   ]
  },
  {
   "cell_type": "code",
   "execution_count": null,
   "metadata": {},
   "outputs": [],
   "source": [
    "! pip install sacrebleu sentencepiece\n",
    "! pip install datasets transformers"
   ]
  },
  {
   "cell_type": "markdown",
   "metadata": {},
   "source": [
    "# Zero/Few-Shot Prompting for Translation"
   ]
  },
  {
   "cell_type": "code",
   "execution_count": null,
   "metadata": {},
   "outputs": [],
   "source": [
    "from transformers import AutoModelForCausalLM, AutoTokenizer\n",
    "\n",
    "model_name = \"ai4bharat/Airavata\"\n",
    "\n",
    "model = AutoModelForCausalLM.from_pretrained(model_name)\n",
    "tokenizer = AutoTokenizer.from_pretrained(model_name)"
   ]
  },
  {
   "cell_type": "code",
   "execution_count": 2,
   "metadata": {},
   "outputs": [
    {
     "data": {
      "text/plain": [
       "LlamaForCausalLM(\n",
       "  (model): LlamaModel(\n",
       "    (embed_tokens): Embedding(48065, 4096)\n",
       "    (layers): ModuleList(\n",
       "      (0-31): 32 x LlamaDecoderLayer(\n",
       "        (self_attn): LlamaAttention(\n",
       "          (q_proj): Linear(in_features=4096, out_features=4096, bias=False)\n",
       "          (k_proj): Linear(in_features=4096, out_features=4096, bias=False)\n",
       "          (v_proj): Linear(in_features=4096, out_features=4096, bias=False)\n",
       "          (o_proj): Linear(in_features=4096, out_features=4096, bias=False)\n",
       "        )\n",
       "        (mlp): LlamaMLP(\n",
       "          (gate_proj): Linear(in_features=4096, out_features=11008, bias=False)\n",
       "          (up_proj): Linear(in_features=4096, out_features=11008, bias=False)\n",
       "          (down_proj): Linear(in_features=11008, out_features=4096, bias=False)\n",
       "          (act_fn): SiLU()\n",
       "        )\n",
       "        (input_layernorm): LlamaRMSNorm((4096,), eps=1e-05)\n",
       "        (post_attention_layernorm): LlamaRMSNorm((4096,), eps=1e-05)\n",
       "      )\n",
       "    )\n",
       "    (norm): LlamaRMSNorm((4096,), eps=1e-05)\n",
       "    (rotary_emb): LlamaRotaryEmbedding()\n",
       "  )\n",
       "  (lm_head): Linear(in_features=4096, out_features=48065, bias=False)\n",
       ")"
      ]
     },
     "execution_count": 2,
     "metadata": {},
     "output_type": "execute_result"
    }
   ],
   "source": [
    "model.cuda()"
   ]
  },
  {
   "cell_type": "code",
   "execution_count": 3,
   "metadata": {},
   "outputs": [],
   "source": [
    "import datasets\n",
    "train_data = datasets.load_dataset('ai4bharat/indic-instruct-data-v0.1', 'nmt-seed')\n",
    "valid_en_data = datasets.load_dataset('facebook/flores', 'eng_Latn', trust_remote_code=True)\n",
    "valid_hi_data = datasets.load_dataset('facebook/flores', 'hin_Deva', trust_remote_code=True)"
   ]
  },
  {
   "cell_type": "code",
   "execution_count": 4,
   "metadata": {},
   "outputs": [],
   "source": [
    "from tqdm import tqdm\n",
    "\n",
    "def gen_prompt(texts, shots=[]):\n",
    "    shots = ''.join([\n",
    "        f\"English: {src}\\nHindi: {trg}\\n\\n\"\n",
    "        for src, trg in shots\n",
    "    ])\n",
    "    prompts = []\n",
    "    for text in texts:\n",
    "        prompt = f\"Translate the following sentence(s) from English into Hindi.\\n\\n\"\n",
    "        prompt += shots\n",
    "        prompt += f\"English: {text}\"\n",
    "        prompt += f\"\\nHindi:\"\n",
    "        prompts.append(prompt)\n",
    "    return prompts\n",
    "\n",
    "def generate(model, tokenizer, prompts, batch_size=10):\n",
    "    prompts = gen_prompt(valid_en_data['devtest']['sentence'])\n",
    "    outputs = []\n",
    "\n",
    "    for i in tqdm(range(0, len(prompts), batch_size)):\n",
    "        batch_prompts = prompts[i:min(i+batch_size, len(prompts))]\n",
    "        input = tokenizer(\n",
    "            batch_prompts,\n",
    "            padding=\"longest\",\n",
    "            return_tensors=\"pt\",\n",
    "            add_special_tokens=True\n",
    "        )\n",
    "        input.to(model.device)\n",
    "\n",
    "        batch_outputs = model.generate(**input)\n",
    "        batch_outputs = tokenizer.batch_decode(batch_outputs, skip_special_tokens=True)\n",
    "        outputs += [\n",
    "            output[len(prompt)+1:]\n",
    "            for prompt, output in zip(batch_prompts, batch_outputs)\n",
    "        ]\n",
    "    return outputs"
   ]
  },
  {
   "cell_type": "code",
   "execution_count": 5,
   "metadata": {},
   "outputs": [
    {
     "name": "stdout",
     "output_type": "stream",
     "text": [
      "Translate the following sentence(s) from English into Hindi.\n",
      "\n",
      "English: \"We now have 4-month-old mice that are non-diabetic that used to be diabetic,\" he added.\n",
      "Hindi:\n"
     ]
    },
    {
     "name": "stderr",
     "output_type": "stream",
     "text": [
      "  0%|          | 0/102 [00:00<?, ?it/s]"
     ]
    },
    {
     "name": "stderr",
     "output_type": "stream",
     "text": [
      "100%|██████████| 102/102 [05:10<00:00,  3.05s/it]\n"
     ]
    }
   ],
   "source": [
    "zero_shots_prompts = gen_prompt(\n",
    "    valid_en_data['devtest']['sentence'],\n",
    ")\n",
    "\n",
    "print(zero_shots_prompts[0])\n",
    "\n",
    "zero_shots_outputs = generate(model, tokenizer, zero_shots_prompts)"
   ]
  },
  {
   "cell_type": "code",
   "execution_count": 8,
   "metadata": {},
   "outputs": [
    {
     "name": "stdout",
     "output_type": "stream",
     "text": [
      "Translate the following sentence(s) from English into Hindi.\n",
      "\n",
      "English: The winner is announced at an event in Sydney in March.\n",
      "Hindi: मार्च में सिडनी में एक कार्यक्रम में विजेता की घोषणा की जाती है।\n",
      "\n",
      "English: It is in charge of music licenses and royalties.\n",
      "Hindi: इस पर म्यूजिक लाइसेंस और रॉयल्टी की जिम्मेदारी है।\n",
      "\n",
      "English: After his brother dies, Jake replaces him to control his avatar.\n",
      "Hindi: उसके भाई के मरने के बाद, जेक उसके अवतार को नियंत्रित करने के लिए उसकी जगह लेता है।\n",
      "\n",
      "English: They go to a nearby base to change into avatar mode.\n",
      "Hindi: अवतार रूप में बदलने के लिए वे पास के संचालन केंद्र पर जाते हैं।\n",
      "\n",
      "English: Avataro Sentai Donbrothers  Avataro Sentai Donbrothers is a Japanese television series.\n",
      "Hindi: अवतार सेंटाई डॉनब्रदर्स: अवतार सेंटाई डॉनब्रदर्स एक जापानी टेलीविजन सीरीज है।\n",
      "\n",
      "English: \"We now have 4-month-old mice that are non-diabetic that used to be diabetic,\" he added.\n",
      "Hindi:\n"
     ]
    },
    {
     "name": "stderr",
     "output_type": "stream",
     "text": [
      "100%|██████████| 102/102 [04:52<00:00,  2.87s/it]\n"
     ]
    }
   ],
   "source": [
    "five_shots_prompts = gen_prompt(\n",
    "    valid_en_data['devtest']['sentence'],\n",
    "    shots=list(zip(train_data['hi']['input_text'], train_data['hi']['output_text']))[:5]\n",
    ")\n",
    "\n",
    "print(five_shots_prompts[0])\n",
    "\n",
    "five_shots_outputs = generate(model, tokenizer, five_shots_prompts)"
   ]
  },
  {
   "cell_type": "code",
   "execution_count": 10,
   "metadata": {},
   "outputs": [
    {
     "name": "stdout",
     "output_type": "stream",
     "text": [
      "BLEU = 33.23 62.5/40.2/27.6/19.2 (BP = 0.978 ratio = 0.978 hyp_len = 27144 ref_len = 27743)\n",
      "chrF2 = 58.44\n",
      "TER = 52.58\n",
      "BLEU = 33.24 62.5/40.2/27.6/19.3 (BP = 0.978 ratio = 0.979 hyp_len = 27150 ref_len = 27743)\n",
      "chrF2 = 58.44\n",
      "TER = 52.60\n"
     ]
    }
   ],
   "source": [
    "import sacrebleu\n",
    "\n",
    "def evaluate(outputs, refs):\n",
    "    print(sacrebleu.corpus_bleu(outputs, refs))\n",
    "    print(sacrebleu.corpus_chrf(outputs, refs))\n",
    "    print(sacrebleu.corpus_ter(outputs, refs))\n",
    "\n",
    "evaluate(zero_shots_outputs, [valid_hi_data['devtest']['sentence']])\n",
    "evaluate(five_shots_outputs, [valid_hi_data['devtest']['sentence']])"
   ]
  },
  {
   "cell_type": "code",
   "execution_count": null,
   "metadata": {},
   "outputs": [],
   "source": []
  }
 ],
 "metadata": {
  "kernelspec": {
   "display_name": ".venv",
   "language": "python",
   "name": "python3"
  },
  "language_info": {
   "codemirror_mode": {
    "name": "ipython",
    "version": 3
   },
   "file_extension": ".py",
   "mimetype": "text/x-python",
   "name": "python",
   "nbconvert_exporter": "python",
   "pygments_lexer": "ipython3",
   "version": "3.10.16"
  }
 },
 "nbformat": 4,
 "nbformat_minor": 2
}
